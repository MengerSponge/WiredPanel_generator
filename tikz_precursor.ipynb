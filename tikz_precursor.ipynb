{
 "cells": [
  {
   "cell_type": "code",
   "execution_count": 1,
   "id": "79d65224",
   "metadata": {},
   "outputs": [],
   "source": [
    "# %matplotlib inline"
   ]
  },
  {
   "cell_type": "code",
   "execution_count": 42,
   "id": "b2b49381",
   "metadata": {},
   "outputs": [],
   "source": [
    "import numpy as np\n",
    "import trimesh\n",
    "import os\n",
    "\n",
    "from bfieldtools.mesh_conductor import MeshConductor\n",
    "from bfieldtools.contour import scalar_contour\n",
    "from bfieldtools.utils import combine_meshes, find_mesh_boundaries"
   ]
  },
  {
   "cell_type": "code",
   "execution_count": 3,
   "id": "28607f7c",
   "metadata": {},
   "outputs": [],
   "source": [
    "resolution = ''\n",
    "resolution = '_coarse'\n",
    "coilmeshes = [\n",
    "    'coil-x'+resolution+'.stl',\n",
    "    'coil-y'+resolution+'.stl',\n",
    "    'coil+x'+resolution+'.stl',\n",
    "    'coil+y'+resolution+'.stl'\n",
    "]\n",
    "\n",
    "contour_file = 'Imedco_n20_G10_coarse.txt'"
   ]
  },
  {
   "cell_type": "code",
   "execution_count": 4,
   "id": "a8e15791",
   "metadata": {},
   "outputs": [],
   "source": [
    "planes = []\n",
    "for stl in coilmeshes:\n",
    "    planes.append(\n",
    "        trimesh.load(\n",
    "            file_obj= os.path.relpath(stl),\n",
    "            process=False,\n",
    "            validate=True\n",
    "        )\n",
    "    )"
   ]
  },
  {
   "cell_type": "markdown",
   "id": "e18e221a",
   "metadata": {},
   "source": [
    "## Load wires and mesh objects into memory\n",
    "\n",
    "First, load all wires back into a numpy array"
   ]
  },
  {
   "cell_type": "code",
   "execution_count": 128,
   "id": "1baa578b",
   "metadata": {},
   "outputs": [],
   "source": [
    "contours = []\n",
    "with open(contour_file) as f:\n",
    "    wire = f.readline()\n",
    "    while wire:\n",
    "        wire = wire.replace('\\n','').replace(';',',').split(',')\n",
    "        raw = [float(xyz) for xyz in wire]\n",
    "        contours.append(np.reshape(raw,(-1,3)))\n",
    "        wire = f.readline()\n",
    "contours = np.array(contours,dtype=object)"
   ]
  },
  {
   "cell_type": "markdown",
   "id": "1d519b6e",
   "metadata": {},
   "source": [
    "Next, find which mesh object corresponds to which wire. Do this by finding the closest distance from each point on the wire to each mesh object, and take the mesh object that's closest. This is an expensive operation, which means it may take a few minutes to run.\n",
    "\n",
    "To help things run faster, it decimates the contour fed into the proximity.closest_point function\n",
    "\n",
    "    contour[::4]"
   ]
  },
  {
   "cell_type": "code",
   "execution_count": 129,
   "id": "665e85e5",
   "metadata": {},
   "outputs": [],
   "source": [
    "contour_address = []\n",
    "plane_r = np.zeros(len(planes))\n",
    "for contour in contours:\n",
    "    for i,plane in enumerate(planes):\n",
    "        _,r,_ =trimesh.proximity.closest_point(plane,contour[::4])\n",
    "        plane_r[i]=np.mean(r)\n",
    "    closest = np.reshape(np.argwhere(plane_r==plane_r.min()),(1,-1))[0]\n",
    "    contour_address.append(closest[0])\n",
    "    assert len(closest)==1, \"There should only be one closest mesh, not %d\" % len(closest)\n",
    "\n",
    "contour_address = np.array(contour_address,dtype=int)"
   ]
  },
  {
   "cell_type": "markdown",
   "id": "e7596558",
   "metadata": {},
   "source": [
    "## Generate edge files for each plane"
   ]
  },
  {
   "cell_type": "code",
   "execution_count": 151,
   "id": "c0972a1b",
   "metadata": {},
   "outputs": [],
   "source": [
    "def write(f,color,scaledpoints,Vm=[],direction=True,unit='cm'):\n",
    "    x0,y0 = scaledpoints[0,:]\n",
    "    if Vm:\n",
    "        f.write(f'\\\\node[draw] at ({x0}{unit}, {y0}{unit}) {{Vm:1.2f}};\\n')\n",
    "    f.write(f'\\\\draw[{color}] ({x0:1.2f}{unit}, {y0:1.2f}{unit})\\n')\n",
    "    for x,y in scaledpoints[1:,:]:\n",
    "        if direction:\n",
    "            stepsize = np.sqrt((x-x0)**2+(y-y0)**2)\n",
    "            if stepsize>1: #centimeter\n",
    "                decor = 'node[sloped,pos=0.5,allow upside down]{\\\\ArrowIn}'\n",
    "            else:\n",
    "                decor = 'node[sloped,pos=0.5,allow upside down]{\\\\arrowIn}'\n",
    "        else:\n",
    "            decor = ''\n",
    "        x0=x; y0=y;\n",
    "        f.write(f'--({x:1.2f}{unit},{y:1.2f}{unit}) {decor}\\n')\n",
    "\n",
    "\n",
    "def write_loop(f,color,scaledpoints,Vm=[],direction=True,unit='cm'):\n",
    "    write(f,color,scaledpoints,Vm,direction,unit)\n",
    "    f.write('--cycle;\\n')\n",
    "\n",
    "def write_line(f,color,scaledpoints,Vm=[],direction=True,unit='cm'):\n",
    "    write(f,color,scaledpoints,Vm,direction,unit)\n",
    "    f.write(';\\n')\n",
    "\n",
    "def write_boundaries(index,coords,scale):\n",
    "    # write_boundaries(index, coords, scale)\n",
    "    # \n",
    "    # Takes mesh edges from bfieldtools and generates a tikz file to render those edges.\n",
    "    color = 'color=boundaryBlue'\n",
    "    bound = os.path.normpath(f'WireWinder/boundary-{index}.tex')\n",
    "    with open(bound,'a') as f:\n",
    "        write_line(f,color,coords,direction=False)\n"
   ]
  },
  {
   "cell_type": "markdown",
   "id": "a9277931",
   "metadata": {},
   "source": [
    "# Make a file for each face's outline.\n",
    "\n",
    "These will be rendered on individual pages."
   ]
  },
  {
   "cell_type": "code",
   "execution_count": 152,
   "id": "8d4839f8",
   "metadata": {},
   "outputs": [],
   "source": [
    "ij = []\n",
    "for facecount,plane in enumerate(planes):\n",
    "\n",
    "    nx = np.unique(plane.vertices[:,0])\n",
    "    ny = np.unique(plane.vertices[:,1])\n",
    "    nz = np.unique(plane.vertices[:,2])\n",
    "\n",
    "    if len(nx)==1:\n",
    "        i = 1\n",
    "        j = 2\n",
    "    elif len(ny)==1:\n",
    "        i = 0\n",
    "        j = 2\n",
    "    elif len(nz)==1:\n",
    "        i=0\n",
    "        j=1\n",
    "    else:\n",
    "        assert True, \"Mesh object is not simple plane. Might need to transform or unwrap more carefully.\"\n",
    "    \n",
    "    ij.append((i,j))\n",
    "    \n",
    "    loopz = []\n",
    "    path=plane.outline()\n",
    "    for line in path.entities:\n",
    "        verts = plane.vertices[line.points][:,(i,j)]\n",
    "        write_boundaries(facecount,verts*100,'cm')"
   ]
  },
  {
   "cell_type": "markdown",
   "id": "7ecaed7d",
   "metadata": {},
   "source": [
    "open file for one face, slice to its windings, export them, repeat"
   ]
  },
  {
   "cell_type": "code",
   "execution_count": 137,
   "id": "d13417c0",
   "metadata": {},
   "outputs": [],
   "source": [
    "color = 'color=wireRed'\n",
    "for index,xy in enumerate(ij):\n",
    "    with open(os.path.normpath(f'WireWinder/closed-loops-{index}.tex'),'a') as f:\n",
    "        for contour in contours[contour_address==index]:\n",
    "            write_loop(f,color,contour[:,xy]*100)"
   ]
  }
 ],
 "metadata": {
  "kernelspec": {
   "display_name": "Python 3",
   "language": "python",
   "name": "python3"
  },
  "language_info": {
   "codemirror_mode": {
    "name": "ipython",
    "version": 3
   },
   "file_extension": ".py",
   "mimetype": "text/x-python",
   "name": "python",
   "nbconvert_exporter": "python",
   "pygments_lexer": "ipython3",
   "version": "3.6.13"
  }
 },
 "nbformat": 4,
 "nbformat_minor": 5
}
